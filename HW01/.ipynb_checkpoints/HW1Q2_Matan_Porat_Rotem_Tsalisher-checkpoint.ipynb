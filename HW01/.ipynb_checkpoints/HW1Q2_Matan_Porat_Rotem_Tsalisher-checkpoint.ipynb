{
 "cells": [
  {
   "cell_type": "markdown",
   "metadata": {},
   "source": [
    "# Full implemetation of KNN in Python"
   ]
  },
  {
   "cell_type": "markdown",
   "metadata": {},
   "source": [
    "#### Instructions"
   ]
  },
  {
   "cell_type": "markdown",
   "metadata": {},
   "source": [
    "Complete this notebook and submit it as the solution for question 2 in home assignment no. 1 \n",
    "\n",
    "* In the relevant cell below, fill in the two id numbers for the students submitting this notebook\n",
    "* Cells with 'COMPLETED - NO CHANGES ARE REQUIRED' in their description require no edits and should be left unchanged\n",
    "* Cells with 'TO BE COMPLETED' require you to complete the code according to the given description \n",
    "* **NOTE**: After you complete the notebook and run all cells, **discuss** the results displayed in the graph produced at the end of the notebook "
   ]
  },
  {
   "cell_type": "code",
   "execution_count": 212,
   "metadata": {},
   "outputs": [],
   "source": [
    "# replace the strings below with the personal details of the two students submitting this notebook\n",
    "Name1 = 'Matan Porat' # student 1 name and surname in the format 'Arik Paran'\n",
    "Name2 = 'Rotem Tsalisher' # student 2 name and surname in the format 'Arik Paran' \n",
    "id1 = '318734944' # student 1 id\n",
    "id2 = '203773601' # student 2 id"
   ]
  },
  {
   "cell_type": "code",
   "execution_count": 213,
   "metadata": {},
   "outputs": [],
   "source": [
    "import numpy as np\n",
    "\n",
    "def LoadIrisData(fname):\n",
    "    '''\n",
    "    ***COMPLETED - NO CHANGES ARE REQUIRED***\n",
    "    \n",
    "    Usage: load data from file in the path 'fname'\n",
    "    \n",
    "    Input: the path for the file that stores the data\n",
    "    Output: feature matrix X, and labels vector Y\n",
    "    '''\n",
    "    \n",
    "    # read the features data from the csv file\n",
    "    X = np.loadtxt(fname,dtype=float, delimiter=',', skiprows = 1,usecols=[1,2,3,4])\n",
    "\n",
    "    # read the labels data from the csv file\n",
    "    Y = np.loadtxt(fname,dtype=str, delimiter=',', skiprows = 1,usecols=[5])\n",
    "    \n",
    "    return X, Y"
   ]
  },
  {
   "cell_type": "code",
   "execution_count": 214,
   "metadata": {},
   "outputs": [],
   "source": [
    "from numpy.random import randint\n",
    "def SplitTrainTest(X,Y):\n",
    "    '''\n",
    "    ***COMPLETED - NO CHANGES ARE REQUIRED***\n",
    "    \n",
    "    Input: feature matrix X, labels vector Y\n",
    "    Output: X_train, Y_train - train data\n",
    "            X_test, Y_test - test data\n",
    "    '''\n",
    "    \n",
    "    # permute the ordering of the examples\n",
    "    ind = np.random.RandomState(seed=int(id1)+int(id2)).permutation(len(Y))\n",
    "\n",
    "    # randomly choose the size of the training data\n",
    "    Ntrain = np.random.RandomState(seed=int(id1)+int(id2)).randint(0.6*len(Y),0.8*len(Y))\n",
    "\n",
    "    # split the data into train and test datasets\n",
    "    X_train = X[ind[:Ntrain]]\n",
    "    Y_train = Y[ind[:Ntrain]]\n",
    "    X_test  = X[ind[Ntrain:]]\n",
    "    Y_test  = Y[ind[Ntrain:]]\n",
    "\n",
    "    return X_train, Y_train, X_test, Y_test"
   ]
  },
  {
   "cell_type": "code",
   "execution_count": 215,
   "metadata": {},
   "outputs": [],
   "source": [
    "def findAxisVal(x):\n",
    "    condition = len(x.shape)\n",
    "    if(condition == 1):\n",
    "        axis_ = 0\n",
    "    else:\n",
    "        axis_ = 1\n",
    "    return axis_\n",
    "\n",
    "\n",
    "\n",
    "\n",
    "def PairwiseDistance(a,b):\n",
    "    '''\n",
    "    ***TO BE COMPLETED***\n",
    "    \n",
    "    Usage: compute the euclidean distance between pair of examples\n",
    "    \n",
    "    Input: two numerical vectors of eqaul length\n",
    "    Output: the euclidean distance between the vectors\n",
    "    \n",
    "    Example: \n",
    "    PairwiseDistance([3, 1],[6, 5]) returns 5\n",
    "    [calculation: sqrt((3-6)^2+(1-5)^2) = sqrt(9+16) = 5]\n",
    "    '''\n",
    "    axis_=max(findAxisVal(a),findAxisVal(b))\n",
    "    return np.linalg.norm(a-b,axis = axis_)"
   ]
  },
  {
   "cell_type": "code",
   "execution_count": 216,
   "metadata": {},
   "outputs": [],
   "source": [
    "def SortArray(a):\n",
    "    '''\n",
    "    ***TO BE COMPLETED***\n",
    "    \n",
    "    Usage: return the ordering of the elements of the input array such that their values are ascending\n",
    "    \n",
    "    Input: a vector with numerical values\n",
    "    Output: the indices of the input array, such that the array is sorted in ascending order\n",
    "    \n",
    "    Example: \n",
    "    SortArray([1.34, 2.18, 1.21]) returns [2,0,1]\n",
    "    '''\n",
    "    return np.argsort(a)"
   ]
  },
  {
   "cell_type": "code",
   "execution_count": 217,
   "metadata": {},
   "outputs": [],
   "source": [
    "def MajorityVote(inds,y,K):\n",
    "    '''\n",
    "    ***TO BE COMPLETED***\n",
    "    \n",
    "    Usage: find the most frequent label in y's K leading values, after it sorted acording to inds\n",
    "    \n",
    "    Input: inds - an ordering of y\n",
    "           y    - a vector of labels\n",
    "           K    - an integer\n",
    "    Output: most frequent label\n",
    "    \n",
    "    Example 1: \n",
    "    SortArray(inds = [2, 0, 1, 3, 5, 4], \n",
    "              y    = ['setosa', 'setosa', 'versicolor', 'setosa', 'virginica', 'versicolor']) \n",
    "              K    = 1)\n",
    "    returns 'versicolor'\n",
    "\n",
    "    Example 2: \n",
    "    SortArray(inds = [2, 0, 1, 3, 5, 4], \n",
    "              y    = ['setosa', 'setosa', 'versicolor', 'setosa', 'virginica', 'versicolor']) \n",
    "              K    = 3)\n",
    "    returns 'setosa'\n",
    "    '''\n",
    "    \n",
    "    # the labels of the K nearest neighbors\n",
    "    arr = y[inds[:K]]\n",
    "    # counting the number occurences of each label amongst the K nearest neighbors\n",
    "    unique, counts = np.unique(arr, return_counts=True)\n",
    "    index = np.argmax(counts)\n",
    " \n",
    "    \n",
    "    # the most frequent label amongst the K nearest neighbors\n",
    "    return unique[index]"
   ]
  },
  {
   "cell_type": "code",
   "execution_count": 218,
   "metadata": {},
   "outputs": [],
   "source": [
    "def KNearestNeighborsClassifier(X_train, Y_train , X_test, K):\n",
    "    '''\n",
    "    ***TO BE COMPLETED***\n",
    "    \n",
    "    Usage: estimate the label of each unclassified example in X_test to be the most \n",
    "           frequent label amongst its K nearest neighbors in X_train\n",
    "           \n",
    "    Input:  X_train - training data (features)\n",
    "            Y_train - training data (labels)  \n",
    "            X_test  - test data (features)    \n",
    "            K       - number of neighbors\n",
    "    \n",
    "    \n",
    "    \n",
    "    Output: Y_test  - the classifier's labels for the test data\n",
    "    \n",
    "    '''\n",
    "    Y_pred = []\n",
    "     \n",
    "    # loop through the examples to be classified\n",
    "    for sample in X_test:\n",
    " # compute the pairwise distances between the each unclassified example and \n",
    " # all classified example\n",
    "\n",
    "        dstVec = PairwiseDistance(X_train,sample) # get the vector of sample's distances from training x vector\n",
    "        inds = SortArray(dstVec) # find the unclassified example's K nearest neighbors\n",
    "        _Y = MajorityVote(inds,Y_train,K) # classify via most frequenct label\n",
    "        Y_pred.append(_Y) # append classified info to classified info's vector\n",
    "    return Y_pred"
   ]
  },
  {
   "cell_type": "code",
   "execution_count": 219,
   "metadata": {},
   "outputs": [],
   "source": [
    "import matplotlib.pyplot as plt\n",
    "\n",
    "def PlotAccuracy(accuracy):\n",
    "\n",
    "    '''\n",
    "    ***COMPLETED - NO CHANGES ARE REQUIRED***\n",
    "    '''\n",
    "    plt.figure(figsize=(14,5))\n",
    "    plt.plot(accuracy,'.-')\n",
    "    plt.xlabel('K')\n",
    "    plt.ylabel('Accuracy')\n",
    "    plt.title('KNN estimated accuracy for various values of K');\n",
    "    return"
   ]
  },
  {
   "cell_type": "code",
   "execution_count": 220,
   "metadata": {},
   "outputs": [],
   "source": [
    "def Accuracy(Y_pred, Y_test):\n",
    "    '''\n",
    "    ***TO BE COMPLETED***\n",
    "    \n",
    "    Usage: calculate the classifier accuracy \n",
    "    \n",
    "    Input: Y_test - true labels of X_test\n",
    "           Y_pred - estimated labels of X_test\n",
    "    Output: accuracy - the nember of correctly classified examples, divided by the total number of examples    \n",
    "\n",
    "    Example: \n",
    "    calling Accuracy(Y_pred = ['setosa', 'setosa', 'versicolor', 'setosa', 'virginica']), \n",
    "                     Y_test = ['setosa', 'setosa', 'versicolor', 'versicolor', 'virginica']))\n",
    "    returns 0.8\n",
    "    '''\n",
    "    \n",
    "    # calculate the accuracy - the ratio between the number of examples in X_test for which\n",
    "    # the true label and the estimated label are the same, and the total number \n",
    "    # of examples in X_test\n",
    "    \n",
    "    return ((np.sum(Y_pred==Y_test))/len(Y_test))"
   ]
  },
  {
   "cell_type": "code",
   "execution_count": 221,
   "metadata": {},
   "outputs": [],
   "source": [
    "def main(fname, Kmax):\n",
    "    '''\n",
    "    ***COMPLETED - NO CHANGES ARE REQUIRED***\n",
    "    '''    \n",
    "    # STEP 1: load data\n",
    "    X,Y = LoadIrisData(fname)\n",
    "    \n",
    "    # STEP 2: split the data into train/test datasets\n",
    "    X_train, Y_train, X_test, Y_test = SplitTrainTest(X,Y)\n",
    "    print('Data is split into ' + str(X_train.shape[0]) + ' examples for training and ' + str(X_test.shape[0]) + ' examples for testing')\n",
    "    # an array to store all computed accuracies\n",
    "    accuracy = np.zeros(Kmax)\n",
    "    \n",
    "    # repeat for all considered values of K\n",
    "    for K in range(Kmax):\n",
    "\n",
    "        # STEP 3: classify the test data using a KNN classifier\n",
    "        Y_pred = KNearestNeighborsClassifier(X_train, Y_train, X_test , K+1)\n",
    "\n",
    "        # STEP 4: calculate the KNN classifier accuracy\n",
    "        accuracy[K] = Accuracy(Y_pred, Y_test)\n",
    "        \n",
    "    # plot results\n",
    "    print(accuracy)\n",
    "    PlotAccuracy(accuracy)\n",
    "    return"
   ]
  },
  {
   "cell_type": "code",
   "execution_count": 222,
   "metadata": {
    "id": "GcRIsEmmoxeL"
   },
   "outputs": [
    {
     "name": "stdout",
     "output_type": "stream",
     "text": [
      "Data is split into 92 examples for training and 58 examples for testing\n",
      "[0.96551724 0.96551724 0.98275862 0.96551724 0.96551724 0.94827586\n",
      " 0.94827586 0.94827586 0.94827586 0.94827586 1.         0.96551724\n",
      " 0.96551724 0.94827586 0.98275862 0.96551724 0.98275862 0.94827586\n",
      " 0.96551724 0.96551724 0.96551724 0.96551724 0.96551724 0.96551724\n",
      " 0.96551724 0.94827586 0.94827586 0.94827586 0.94827586 0.94827586\n",
      " 0.96551724 0.96551724 0.94827586 0.93103448 0.9137931  0.94827586\n",
      " 0.9137931  0.93103448 0.9137931  0.9137931  0.9137931  0.9137931\n",
      " 0.9137931  0.9137931  0.93103448 0.9137931  0.9137931  0.9137931\n",
      " 0.9137931  0.9137931  0.93103448 0.9137931  0.87931034 0.89655172\n",
      " 0.89655172 0.93103448 0.93103448 0.9137931  0.82758621 0.81034483\n",
      " 0.82758621 0.82758621 0.82758621 0.82758621 0.81034483 0.81034483\n",
      " 0.81034483 0.81034483 0.81034483 0.79310345 0.79310345 0.79310345\n",
      " 0.79310345 0.79310345 0.79310345 0.79310345 0.77586207 0.77586207\n",
      " 0.75862069 0.75862069 0.75862069 0.75862069 0.75862069 0.75862069\n",
      " 0.70689655 0.67241379 0.63793103 0.27586207 0.27586207 0.27586207\n",
      " 0.27586207 0.27586207 0.27586207 0.27586207 0.27586207 0.27586207\n",
      " 0.27586207 0.27586207 0.27586207 0.27586207]\n"
     ]
    },
    {
     "data": {
      "image/png": "[encoded data removed]",
      "text/plain": [
       "<Figure size 1400x500 with 1 Axes>"
      ]
     },
     "metadata": {},
     "output_type": "display_data"
    }
   ],
   "source": [
    "fname = 'iris.csv'\n",
    "Kmax = 100\n",
    "main(fname, Kmax)"
   ]
  },
  {
   "cell_type": "markdown",
   "metadata": {},
   "source": [
    "# Second Part Of Q2:"
   ]
  },
  {
   "cell_type": "code",
   "execution_count": 223,
   "metadata": {},
   "outputs": [],
   "source": [
    "def SplitTrainTestMatRot(X,Y):\n",
    "    \n",
    "    # Our function to rand the value of Ntrain from a uniform distribution arround 75-110\n",
    "    \n",
    "    # permute the ordering of the examples\n",
    "    ind = np.random.RandomState(seed=int(id1)+int(id2)).permutation(len(Y))\n",
    "\n",
    "    # randomly choose the size of the training data\n",
    "    Ntrain = 80 + np.random.randint(31)\n",
    "\n",
    "    # split the data into train and test datasets\n",
    "    X_train = X[ind[:Ntrain]]\n",
    "    Y_train = Y[ind[:Ntrain]]\n",
    "    X_test  = X[ind[Ntrain:]]\n",
    "    Y_test  = Y[ind[Ntrain:]]\n",
    "\n",
    "    return X_train, Y_train, X_test, Y_test"
   ]
  },
  {
   "cell_type": "code",
   "execution_count": 244,
   "metadata": {},
   "outputs": [],
   "source": [
    "def oneHundredMiles(Kmax):\n",
    "    \n",
    "    G = 3 # number of itterations\n",
    "    \n",
    "    # STEP 1: load data\n",
    "    X,Y = LoadIrisData(fname)\n",
    "    \n",
    "    # an array to store all computed accuracies\n",
    "    accuracyMat = np.zeros((G,Kmax))\n",
    "    accuracyMean = np.zeros(Kmax)\n",
    "    for i in range(G):\n",
    "        \n",
    "        # STEP 2: split the data into train/test datasets\n",
    "        X_train, Y_train, X_test, Y_test = SplitTrainTestMatRot(X,Y)\n",
    "        #print('Data is split into ' + str(X_train.shape[0]) + ' examples for training and ' + str(X_test.shape[0]) + ' examples for testing')\n",
    "\n",
    "        # repeat for all considered values of K\n",
    "        for K in range(Kmax):\n",
    "\n",
    "            # STEP 3: classify the test data using a KNN classifier\n",
    "            Y_pred = KNearestNeighborsClassifier(X_train, Y_train, X_test , K+1)\n",
    "\n",
    "            # STEP 4: calculate the KNN classifier accuracy\n",
    "            accuracyMat[i,K] = Accuracy(Y_pred, Y_test)   \n",
    "    \n",
    "    \n",
    "    accuracyMean = np.mean(accuracyMat,axis = 0)\n",
    "    PlotAccuracy(accuracyMean)\n",
    "    return"
   ]
  },
  {
   "cell_type": "code",
   "execution_count": 245,
   "metadata": {},
   "outputs": [
    {
     "data": {
      "image/png": "[encoded data removed]",
      "text/plain": [
       "<Figure size 1400x500 with 1 Axes>"
      ]
     },
     "metadata": {},
     "output_type": "display_data"
    }
   ],
   "source": [
    "oneHundredMiles(100)"
   ]
  },
  {
   "cell_type": "code",
   "execution_count": null,
   "metadata": {},
   "outputs": [],
   "source": []
  },
  {
   "cell_type": "code",
   "execution_count": null,
   "metadata": {},
   "outputs": [],
   "source": []
  }
 ],
 "metadata": {
  "colab": {
   "authorship_tag": "ABX9TyNFWcR00QMcUKz4KlNYvrGT",
   "collapsed_sections": [],
   "name": "My KNN with iris.ipynb",
   "private_outputs": true,
   "provenance": []
  },
  "kernelspec": {
   "display_name": "Python 3 (ipykernel)",
   "language": "python",
   "name": "python3"
  },
  "language_info": {
   "codemirror_mode": {
    "name": "ipython",
    "version": 3
   },
   "file_extension": ".py",
   "mimetype": "text/x-python",
   "name": "python",
   "nbconvert_exporter": "python",
   "pygments_lexer": "ipython3",
   "version": "3.11.5"
  },
  "toc": {
   "base_numbering": 1,
   "nav_menu": {},
   "number_sections": false,
   "sideBar": true,
   "skip_h1_title": true,
   "title_cell": "Table of Contents",
   "title_sidebar": "Contents",
   "toc_cell": false,
   "toc_position": {
    "height": "calc(100% - 180px)",
    "left": "10px",
    "top": "150px",
    "width": "165px"
   },
   "toc_section_display": true,
   "toc_window_display": false
  }
 },
 "nbformat": 4,
 "nbformat_minor": 1
}
