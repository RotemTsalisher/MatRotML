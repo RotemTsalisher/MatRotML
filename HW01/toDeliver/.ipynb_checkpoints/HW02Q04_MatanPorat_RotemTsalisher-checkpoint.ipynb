{
 "cells": [
  {
   "cell_type": "markdown",
   "id": "935a6a4f",
   "metadata": {},
   "source": [
    "# HW02 Question 4: Monty Hall"
   ]
  },
  {
   "cell_type": "code",
   "execution_count": 10,
   "id": "90f1167e",
   "metadata": {},
   "outputs": [],
   "source": [
    "import numpy as np"
   ]
  },
  {
   "cell_type": "code",
   "execution_count": 11,
   "id": "bb5f330c",
   "metadata": {},
   "outputs": [],
   "source": [
    "# radom function to decide behind which door the car is (car = 1, goat = 0)\n",
    "\n",
    "def decideCar():\n",
    "    gameVec = np.zeros(3)\n",
    "    gameVec[np.random.randint(3)] = 1\n",
    "        \n",
    "    return gameVec"
   ]
  },
  {
   "cell_type": "code",
   "execution_count": 34,
   "id": "9e6c5bae",
   "metadata": {},
   "outputs": [],
   "source": [
    "# random function to decide which player choose which door\n",
    "\n",
    "def playersDoors():\n",
    "    \n",
    "    playersChoise = {\n",
    "        \"p1\" : np.random.randint(3),\n",
    "        \"p2\" : np.random.randint(3),\n",
    "        \"p3\" : np.random.randint(3),\n",
    "    }\n",
    "    return playersChoice"
   ]
  },
  {
   "cell_type": "code",
   "execution_count": 55,
   "id": "90648ffa",
   "metadata": {},
   "outputs": [],
   "source": [
    "# function to decide which door the host opens\n",
    "\n",
    "def hostOpenDoor(playersDoor,gameVec):\n",
    "    \n",
    "    hostDoor = 0\n",
    "    if(gameVec[playersDoor]):\n",
    "        \n",
    "        # host randomly chooses between doors with goats\n",
    "\n",
    "        hostDoor = np.random.randint(3)\n",
    "        while( hostDoor == playersDoor): \n",
    "            hostDoor = np.random.randint(3)\n",
    "         # keep randing doors until you choose a goat (different door than players')\n",
    "    \n",
    "    else:\n",
    "\n",
    "        tmp = np.where(gameVec==1)\n",
    "        hostDoor = 3-playersDoor-tmp[0] #algo to make the host always choose the door with the goat\n",
    "        \n",
    "    return hostDoor\n"
   ]
  },
  {
   "cell_type": "code",
   "execution_count": 56,
   "id": "30725557",
   "metadata": {},
   "outputs": [],
   "source": [
    "def main():\n",
    "    \n",
    "    gameVec_ = decideCar()\n",
    "    playersChoice_ = playersDoors() \n",
    "    \n",
    "    #assume play game with p1\n",
    "    p1 = playersChoice_[\"p1\"]\n",
    "    \n",
    "    hostDoor = hostOpenDoor(p1,gameVec_)\n",
    "    print(gameVec_)\n",
    "    print(\"player 1 choose door number %d\" %p1)\n",
    "    print(\"host choose door number %d\" %hostDoor)\n",
    "    \n",
    "    return "
   ]
  },
  {
   "cell_type": "code",
   "execution_count": 59,
   "id": "67b97911",
   "metadata": {},
   "outputs": [
    {
     "name": "stdout",
     "output_type": "stream",
     "text": [
      "inside ELSE\n",
      "[0. 1. 0.]\n",
      "player 1 choose door number 2\n",
      "host choose door number 0\n"
     ]
    }
   ],
   "source": [
    "main()"
   ]
  },
  {
   "cell_type": "code",
   "execution_count": null,
   "id": "6e479c86",
   "metadata": {},
   "outputs": [],
   "source": []
  }
 ],
 "metadata": {
  "kernelspec": {
   "display_name": "Python 3 (ipykernel)",
   "language": "python",
   "name": "python3"
  },
  "language_info": {
   "codemirror_mode": {
    "name": "ipython",
    "version": 3
   },
   "file_extension": ".py",
   "mimetype": "text/x-python",
   "name": "python",
   "nbconvert_exporter": "python",
   "pygments_lexer": "ipython3",
   "version": "3.11.5"
  }
 },
 "nbformat": 4,
 "nbformat_minor": 5
}
