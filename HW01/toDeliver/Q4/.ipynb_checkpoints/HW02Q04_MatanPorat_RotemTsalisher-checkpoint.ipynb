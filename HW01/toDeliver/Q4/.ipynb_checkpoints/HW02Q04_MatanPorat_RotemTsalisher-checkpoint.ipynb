{
 "cells": [
  {
   "cell_type": "markdown",
   "id": "d9f8389f",
   "metadata": {},
   "source": [
    "# HW02 Question 4: Monty Hall"
   ]
  },
  {
   "cell_type": "code",
   "execution_count": 2,
   "id": "c7e98579",
   "metadata": {},
   "outputs": [],
   "source": [
    "import numpy as np\n",
    "import matplotlib.pyplot as plt\n",
    "import random"
   ]
  },
  {
   "cell_type": "code",
   "execution_count": 3,
   "id": "7e24b9b1",
   "metadata": {},
   "outputs": [],
   "source": [
    "# radom function to decide behind which door the car is (car = 1, goat = 0)\n",
    "\n",
    "def decideCar():\n",
    "    gameVec = np.zeros(3)\n",
    "    gameVec[np.random.randint(3)] = 1\n",
    "        \n",
    "    return gameVec"
   ]
  },
  {
   "cell_type": "code",
   "execution_count": 4,
   "id": "b5f251b8",
   "metadata": {},
   "outputs": [],
   "source": [
    "# random function to decide which player choose which door\n",
    "\n",
    "def playersDoors():\n",
    "    \n",
    "    playersChoice = {\n",
    "        \"p1\" : np.random.randint(3),\n",
    "        \"p2\" : np.random.randint(3),\n",
    "        \"p3\" : np.random.randint(3),\n",
    "    }\n",
    "    return playersChoice"
   ]
  },
  {
   "cell_type": "code",
   "execution_count": 5,
   "id": "64849c5d",
   "metadata": {},
   "outputs": [],
   "source": [
    "# function to decide which door the host opens\n",
    "\n",
    "def hostOpenDoor(playersDoor,gameVec):\n",
    "    \n",
    "    hostDoor = 0\n",
    "    if(gameVec[playersDoor]):\n",
    "        \n",
    "        # host randomly chooses between doors with goats\n",
    "\n",
    "        hostDoor = np.random.randint(3)\n",
    "        while( hostDoor == playersDoor): \n",
    "            hostDoor = np.random.randint(3)\n",
    "         # keep randing doors until you choose a goat (different door than players')\n",
    "    \n",
    "    else:\n",
    "\n",
    "        tmp = np.where(gameVec==1)\n",
    "        hostDoor = 3-playersDoor-tmp[0] #algo to make the host always choose the door with the goat\n",
    "        \n",
    "    return hostDoor\n"
   ]
  },
  {
   "cell_type": "code",
   "execution_count": 6,
   "id": "59aa6cf1",
   "metadata": {},
   "outputs": [],
   "source": [
    "def changeDoor(player, playerDict, hostDoor):\n",
    "    choice = ['switchDoor', 'keepDoor'] # to decide if to switch the door or keep current door\n",
    "    \n",
    "    if(player == \"p1\"):\n",
    "        \n",
    "        #play the game according to p1\n",
    "        return playerDict # door won't change\n",
    "        \n",
    "    elif(player == \"p2\"):\n",
    "        \n",
    "        #play the game according to p2\n",
    "        playerDict[player] = 3 - hostDoor - playerDict[player] # always change door\n",
    "        \n",
    "    else:\n",
    "    \n",
    "        #play the game according to p3\n",
    "        p3_choice = random.choices(choice, [.5, .5])[0] # switch in probability of .5\n",
    "        if(p3_choice == \"switchDoor\"):\n",
    "            playerDict[player] = 3 - hostDoor - playerDict[player] # switch door\n",
    "        \n",
    "    return playerDict\n",
    "    "
   ]
  },
  {
   "cell_type": "code",
   "execution_count": 7,
   "id": "d5096bcd",
   "metadata": {},
   "outputs": [],
   "source": [
    "def didWin(player,playerDict,gameVec):\n",
    "    if(gameVec[playerDict[player]]):\n",
    "        #print(\"WIN!\")\n",
    "        return 1\n",
    "    #print(\"LOOSE!\")\n",
    "    return 0"
   ]
  },
  {
   "cell_type": "code",
   "execution_count": 8,
   "id": "4daca2d2",
   "metadata": {},
   "outputs": [],
   "source": [
    "def playGame(player_):\n",
    "    gameVec_ = decideCar()\n",
    "    playersChoice_ = playersDoors() # creat dictionary\n",
    "    #assume play game with p1\n",
    "    player_name = player_ #player's name\n",
    "    player_choice = playersChoice_[player_name] #choose players value from dictionary\n",
    "    hostDoor = hostOpenDoor(player_choice,gameVec_)\n",
    "    #print(gameVec_)\n",
    "    #print(\"player 1 choose door number %d\" %(player_choice + 1))\n",
    "    #print(\"host choose door number %d\" %(hostDoor + 1))\n",
    "    playersChoice_ = changeDoor(player_name,playersChoice_,hostDoor)\n",
    "    #print(\"player 1 choose door number %d\" %(playersChoice_[player_name] + 1))\n",
    "    return didWin(player_name,playersChoice_,gameVec_)"
   ]
  },
  {
   "cell_type": "code",
   "execution_count": 9,
   "id": "dcec1a39",
   "metadata": {},
   "outputs": [],
   "source": [
    "def thousandGames(player):\n",
    "    N = 1000\n",
    "    tmp = 0\n",
    "    cum_res = np.array([])\n",
    "    for i in range(N):\n",
    "        tmp += playGame(player)\n",
    "        cum_res = np.append(cum_res,tmp)\n",
    "    \n",
    "    cum_res /= N\n",
    "    plt.figure()\n",
    "    plt.plot(cum_res)\n",
    "    plt.ylim([0,1])\n",
    "    return"
   ]
  },
  {
   "cell_type": "code",
   "execution_count": 11,
   "id": "5e14f5e8",
   "metadata": {},
   "outputs": [
    {
     "data": {
      "image/png": "[encoded data removed]",
      "text/plain": [
       "<Figure size 640x480 with 1 Axes>"
      ]
     },
     "metadata": {},
     "output_type": "display_data"
    }
   ],
   "source": [
    "thousandGames(\"p1\")"
   ]
  },
  {
   "cell_type": "code",
   "execution_count": null,
   "id": "314ad41c",
   "metadata": {},
   "outputs": [],
   "source": [
    "thousand"
   ]
  },
  {
   "cell_type": "code",
   "execution_count": null,
   "id": "e551a125",
   "metadata": {},
   "outputs": [],
   "source": []
  }
 ],
 "metadata": {
  "kernelspec": {
   "display_name": "Python 3 (ipykernel)",
   "language": "python",
   "name": "python3"
  },
  "language_info": {
   "codemirror_mode": {
    "name": "ipython",
    "version": 3
   },
   "file_extension": ".py",
   "mimetype": "text/x-python",
   "name": "python",
   "nbconvert_exporter": "python",
   "pygments_lexer": "ipython3",
   "version": "3.11.5"
  }
 },
 "nbformat": 4,
 "nbformat_minor": 5
}
